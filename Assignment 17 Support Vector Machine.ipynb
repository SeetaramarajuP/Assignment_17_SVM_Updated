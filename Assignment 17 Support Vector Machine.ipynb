{
  "cells": [
    {
      "metadata": {},
      "id": "a137cedc",
      "cell_type": "markdown",
      "source": "# QUESTION 1 :- Forest Fire"
    },
    {
      "metadata": {
        "ExecuteTime": {
          "end_time": "2023-08-02T05:11:55.687742Z",
          "start_time": "2023-08-02T05:11:52.465946Z"
        },
        "trusted": false
      },
      "id": "17bf5559",
      "cell_type": "code",
      "source": "import pandas as pd \nimport numpy as np\nfrom sklearn.preprocessing import StandardScaler\nfrom sklearn import svm\nfrom sklearn.svm import SVC\nfrom sklearn.model_selection import GridSearchCV\nfrom sklearn.metrics import classification_report\nfrom sklearn.metrics import accuracy_score, confusion_matrix\nfrom sklearn.model_selection import train_test_split, cross_val_score",
      "execution_count": 1,
      "outputs": []
    },
    {
      "metadata": {
        "ExecuteTime": {
          "end_time": "2023-08-02T03:12:03.279041Z",
          "start_time": "2023-08-02T03:12:03.041586Z"
        },
        "trusted": false
      },
      "id": "fa79d144",
      "cell_type": "code",
      "source": "fire=pd.read_csv('forestfires.csv')\nfire",
      "execution_count": 2,
      "outputs": [
        {
          "data": {
            "text/html": "<div>\n<style scoped>\n    .dataframe tbody tr th:only-of-type {\n        vertical-align: middle;\n    }\n\n    .dataframe tbody tr th {\n        vertical-align: top;\n    }\n\n    .dataframe thead th {\n        text-align: right;\n    }\n</style>\n<table border=\"1\" class=\"dataframe\">\n  <thead>\n    <tr style=\"text-align: right;\">\n      <th></th>\n      <th>month</th>\n      <th>day</th>\n      <th>FFMC</th>\n      <th>DMC</th>\n      <th>DC</th>\n      <th>ISI</th>\n      <th>temp</th>\n      <th>RH</th>\n      <th>wind</th>\n      <th>rain</th>\n      <th>...</th>\n      <th>monthfeb</th>\n      <th>monthjan</th>\n      <th>monthjul</th>\n      <th>monthjun</th>\n      <th>monthmar</th>\n      <th>monthmay</th>\n      <th>monthnov</th>\n      <th>monthoct</th>\n      <th>monthsep</th>\n      <th>size_category</th>\n    </tr>\n  </thead>\n  <tbody>\n    <tr>\n      <th>0</th>\n      <td>mar</td>\n      <td>fri</td>\n      <td>86.2</td>\n      <td>26.2</td>\n      <td>94.3</td>\n      <td>5.1</td>\n      <td>8.2</td>\n      <td>51</td>\n      <td>6.7</td>\n      <td>0.0</td>\n      <td>...</td>\n      <td>0</td>\n      <td>0</td>\n      <td>0</td>\n      <td>0</td>\n      <td>1</td>\n      <td>0</td>\n      <td>0</td>\n      <td>0</td>\n      <td>0</td>\n      <td>small</td>\n    </tr>\n    <tr>\n      <th>1</th>\n      <td>oct</td>\n      <td>tue</td>\n      <td>90.6</td>\n      <td>35.4</td>\n      <td>669.1</td>\n      <td>6.7</td>\n      <td>18.0</td>\n      <td>33</td>\n      <td>0.9</td>\n      <td>0.0</td>\n      <td>...</td>\n      <td>0</td>\n      <td>0</td>\n      <td>0</td>\n      <td>0</td>\n      <td>0</td>\n      <td>0</td>\n      <td>0</td>\n      <td>1</td>\n      <td>0</td>\n      <td>small</td>\n    </tr>\n    <tr>\n      <th>2</th>\n      <td>oct</td>\n      <td>sat</td>\n      <td>90.6</td>\n      <td>43.7</td>\n      <td>686.9</td>\n      <td>6.7</td>\n      <td>14.6</td>\n      <td>33</td>\n      <td>1.3</td>\n      <td>0.0</td>\n      <td>...</td>\n      <td>0</td>\n      <td>0</td>\n      <td>0</td>\n      <td>0</td>\n      <td>0</td>\n      <td>0</td>\n      <td>0</td>\n      <td>1</td>\n      <td>0</td>\n      <td>small</td>\n    </tr>\n    <tr>\n      <th>3</th>\n      <td>mar</td>\n      <td>fri</td>\n      <td>91.7</td>\n      <td>33.3</td>\n      <td>77.5</td>\n      <td>9.0</td>\n      <td>8.3</td>\n      <td>97</td>\n      <td>4.0</td>\n      <td>0.2</td>\n      <td>...</td>\n      <td>0</td>\n      <td>0</td>\n      <td>0</td>\n      <td>0</td>\n      <td>1</td>\n      <td>0</td>\n      <td>0</td>\n      <td>0</td>\n      <td>0</td>\n      <td>small</td>\n    </tr>\n    <tr>\n      <th>4</th>\n      <td>mar</td>\n      <td>sun</td>\n      <td>89.3</td>\n      <td>51.3</td>\n      <td>102.2</td>\n      <td>9.6</td>\n      <td>11.4</td>\n      <td>99</td>\n      <td>1.8</td>\n      <td>0.0</td>\n      <td>...</td>\n      <td>0</td>\n      <td>0</td>\n      <td>0</td>\n      <td>0</td>\n      <td>1</td>\n      <td>0</td>\n      <td>0</td>\n      <td>0</td>\n      <td>0</td>\n      <td>small</td>\n    </tr>\n    <tr>\n      <th>...</th>\n      <td>...</td>\n      <td>...</td>\n      <td>...</td>\n      <td>...</td>\n      <td>...</td>\n      <td>...</td>\n      <td>...</td>\n      <td>...</td>\n      <td>...</td>\n      <td>...</td>\n      <td>...</td>\n      <td>...</td>\n      <td>...</td>\n      <td>...</td>\n      <td>...</td>\n      <td>...</td>\n      <td>...</td>\n      <td>...</td>\n      <td>...</td>\n      <td>...</td>\n      <td>...</td>\n    </tr>\n    <tr>\n      <th>512</th>\n      <td>aug</td>\n      <td>sun</td>\n      <td>81.6</td>\n      <td>56.7</td>\n      <td>665.6</td>\n      <td>1.9</td>\n      <td>27.8</td>\n      <td>32</td>\n      <td>2.7</td>\n      <td>0.0</td>\n      <td>...</td>\n      <td>0</td>\n      <td>0</td>\n      <td>0</td>\n      <td>0</td>\n      <td>0</td>\n      <td>0</td>\n      <td>0</td>\n      <td>0</td>\n      <td>0</td>\n      <td>large</td>\n    </tr>\n    <tr>\n      <th>513</th>\n      <td>aug</td>\n      <td>sun</td>\n      <td>81.6</td>\n      <td>56.7</td>\n      <td>665.6</td>\n      <td>1.9</td>\n      <td>21.9</td>\n      <td>71</td>\n      <td>5.8</td>\n      <td>0.0</td>\n      <td>...</td>\n      <td>0</td>\n      <td>0</td>\n      <td>0</td>\n      <td>0</td>\n      <td>0</td>\n      <td>0</td>\n      <td>0</td>\n      <td>0</td>\n      <td>0</td>\n      <td>large</td>\n    </tr>\n    <tr>\n      <th>514</th>\n      <td>aug</td>\n      <td>sun</td>\n      <td>81.6</td>\n      <td>56.7</td>\n      <td>665.6</td>\n      <td>1.9</td>\n      <td>21.2</td>\n      <td>70</td>\n      <td>6.7</td>\n      <td>0.0</td>\n      <td>...</td>\n      <td>0</td>\n      <td>0</td>\n      <td>0</td>\n      <td>0</td>\n      <td>0</td>\n      <td>0</td>\n      <td>0</td>\n      <td>0</td>\n      <td>0</td>\n      <td>large</td>\n    </tr>\n    <tr>\n      <th>515</th>\n      <td>aug</td>\n      <td>sat</td>\n      <td>94.4</td>\n      <td>146.0</td>\n      <td>614.7</td>\n      <td>11.3</td>\n      <td>25.6</td>\n      <td>42</td>\n      <td>4.0</td>\n      <td>0.0</td>\n      <td>...</td>\n      <td>0</td>\n      <td>0</td>\n      <td>0</td>\n      <td>0</td>\n      <td>0</td>\n      <td>0</td>\n      <td>0</td>\n      <td>0</td>\n      <td>0</td>\n      <td>small</td>\n    </tr>\n    <tr>\n      <th>516</th>\n      <td>nov</td>\n      <td>tue</td>\n      <td>79.5</td>\n      <td>3.0</td>\n      <td>106.7</td>\n      <td>1.1</td>\n      <td>11.8</td>\n      <td>31</td>\n      <td>4.5</td>\n      <td>0.0</td>\n      <td>...</td>\n      <td>0</td>\n      <td>0</td>\n      <td>0</td>\n      <td>0</td>\n      <td>0</td>\n      <td>0</td>\n      <td>1</td>\n      <td>0</td>\n      <td>0</td>\n      <td>small</td>\n    </tr>\n  </tbody>\n</table>\n<p>517 rows × 31 columns</p>\n</div>",
            "text/plain": "    month  day  FFMC    DMC     DC   ISI  temp  RH  wind  rain  ...  monthfeb  \\\n0     mar  fri  86.2   26.2   94.3   5.1   8.2  51   6.7   0.0  ...         0   \n1     oct  tue  90.6   35.4  669.1   6.7  18.0  33   0.9   0.0  ...         0   \n2     oct  sat  90.6   43.7  686.9   6.7  14.6  33   1.3   0.0  ...         0   \n3     mar  fri  91.7   33.3   77.5   9.0   8.3  97   4.0   0.2  ...         0   \n4     mar  sun  89.3   51.3  102.2   9.6  11.4  99   1.8   0.0  ...         0   \n..    ...  ...   ...    ...    ...   ...   ...  ..   ...   ...  ...       ...   \n512   aug  sun  81.6   56.7  665.6   1.9  27.8  32   2.7   0.0  ...         0   \n513   aug  sun  81.6   56.7  665.6   1.9  21.9  71   5.8   0.0  ...         0   \n514   aug  sun  81.6   56.7  665.6   1.9  21.2  70   6.7   0.0  ...         0   \n515   aug  sat  94.4  146.0  614.7  11.3  25.6  42   4.0   0.0  ...         0   \n516   nov  tue  79.5    3.0  106.7   1.1  11.8  31   4.5   0.0  ...         0   \n\n     monthjan  monthjul  monthjun  monthmar  monthmay  monthnov  monthoct  \\\n0           0         0         0         1         0         0         0   \n1           0         0         0         0         0         0         1   \n2           0         0         0         0         0         0         1   \n3           0         0         0         1         0         0         0   \n4           0         0         0         1         0         0         0   \n..        ...       ...       ...       ...       ...       ...       ...   \n512         0         0         0         0         0         0         0   \n513         0         0         0         0         0         0         0   \n514         0         0         0         0         0         0         0   \n515         0         0         0         0         0         0         0   \n516         0         0         0         0         0         1         0   \n\n     monthsep  size_category  \n0           0          small  \n1           0          small  \n2           0          small  \n3           0          small  \n4           0          small  \n..        ...            ...  \n512         0          large  \n513         0          large  \n514         0          large  \n515         0          small  \n516         0          small  \n\n[517 rows x 31 columns]"
          },
          "execution_count": 2,
          "metadata": {},
          "output_type": "execute_result"
        }
      ]
    },
    {
      "metadata": {
        "ExecuteTime": {
          "end_time": "2023-08-02T03:40:51.317405Z",
          "start_time": "2023-08-02T03:40:51.051520Z"
        },
        "trusted": false
      },
      "id": "4d8e357e",
      "cell_type": "code",
      "source": "import matplotlib.pyplot as plt\nplt.plot(fire['size_category'],fire['rain'],'bo')\nplt.show",
      "execution_count": 5,
      "outputs": [
        {
          "data": {
            "text/plain": "<function matplotlib.pyplot.show(close=None, block=None)>"
          },
          "execution_count": 5,
          "metadata": {},
          "output_type": "execute_result"
        },
        {
          "data": {
            "image/png": "[encoded data removed]",
            "text/plain": "<Figure size 432x288 with 1 Axes>"
          },
          "metadata": {
            "needs_background": "light"
          },
          "output_type": "display_data"
        }
      ]
    },
    {
      "metadata": {
        "ExecuteTime": {
          "end_time": "2023-08-02T03:46:40.103990Z",
          "start_time": "2023-08-02T03:46:39.765763Z"
        },
        "trusted": false
      },
      "id": "bc63c204",
      "cell_type": "code",
      "source": "plt.plot(fire['rain'],fire['month'],'bo')",
      "execution_count": 11,
      "outputs": [
        {
          "data": {
            "text/plain": "[<matplotlib.lines.Line2D at 0x267ccb7ceb0>]"
          },
          "execution_count": 11,
          "metadata": {},
          "output_type": "execute_result"
        },
        {
          "data": {
            "image/png": "[encoded data removed]",
            "text/plain": "<Figure size 432x288 with 1 Axes>"
          },
          "metadata": {
            "needs_background": "light"
          },
          "output_type": "display_data"
        }
      ]
    },
    {
      "metadata": {
        "ExecuteTime": {
          "end_time": "2023-08-02T04:04:58.634680Z",
          "start_time": "2023-08-02T04:04:58.310105Z"
        },
        "trusted": false
      },
      "id": "da0b96fd",
      "cell_type": "code",
      "source": "plt.plot(fire['rain'],fire['temp'],'bo')",
      "execution_count": 47,
      "outputs": [
        {
          "data": {
            "text/plain": "[<matplotlib.lines.Line2D at 0x267d1b21100>]"
          },
          "execution_count": 47,
          "metadata": {},
          "output_type": "execute_result"
        },
        {
          "data": {
            "image/png": "[encoded data removed]",
            "text/plain": "<Figure size 432x288 with 1 Axes>"
          },
          "metadata": {
            "needs_background": "light"
          },
          "output_type": "display_data"
        }
      ]
    },
    {
      "metadata": {
        "ExecuteTime": {
          "end_time": "2023-08-02T03:46:47.290062Z",
          "start_time": "2023-08-02T03:46:47.274045Z"
        },
        "trusted": false
      },
      "id": "c353e45d",
      "cell_type": "code",
      "source": "data=fire.values",
      "execution_count": 12,
      "outputs": []
    },
    {
      "metadata": {
        "ExecuteTime": {
          "end_time": "2023-08-02T03:46:49.071624Z",
          "start_time": "2023-08-02T03:46:49.055605Z"
        },
        "trusted": false
      },
      "id": "da9c4512",
      "cell_type": "code",
      "source": "x=data[:,2:-1]\ny=data[:,-1]",
      "execution_count": 13,
      "outputs": []
    },
    {
      "metadata": {
        "ExecuteTime": {
          "end_time": "2023-08-02T03:46:50.791252Z",
          "start_time": "2023-08-02T03:46:50.687351Z"
        },
        "trusted": false
      },
      "id": "12cea145",
      "cell_type": "code",
      "source": "x_train,x_test,y_train,y_test=train_test_split(x,y,test_size=0.3)",
      "execution_count": 14,
      "outputs": []
    },
    {
      "metadata": {
        "ExecuteTime": {
          "end_time": "2023-08-02T03:46:52.176298Z",
          "start_time": "2023-08-02T03:46:52.152281Z"
        },
        "trusted": false
      },
      "id": "1c14ca04",
      "cell_type": "code",
      "source": "x_train.shape,x_test.shape,y_train.shape,y_test.shape",
      "execution_count": 15,
      "outputs": [
        {
          "data": {
            "text/plain": "((361, 28), (156, 28), (361,), (156,))"
          },
          "execution_count": 15,
          "metadata": {},
          "output_type": "execute_result"
        }
      ]
    },
    {
      "metadata": {
        "ExecuteTime": {
          "end_time": "2023-08-02T03:47:07.476395Z",
          "start_time": "2023-08-02T03:46:53.741817Z"
        },
        "trusted": false
      },
      "id": "8bc2e5f7",
      "cell_type": "code",
      "source": "clf=SVC()\nparams_grid=[{'kernel':['rbf'],'gamma':[50,25,10,5,1],'C':[10,9,8,7,6,5,4,3,2,1]}]\ngsv=GridSearchCV(clf,params_grid,cv=10)\ngsv.fit(x_train,y_train)",
      "execution_count": 16,
      "outputs": [
        {
          "data": {
            "text/plain": "GridSearchCV(cv=10, estimator=SVC(),\n             param_grid=[{'C': [10, 9, 8, 7, 6, 5, 4, 3, 2, 1],\n                          'gamma': [50, 25, 10, 5, 1], 'kernel': ['rbf']}])"
          },
          "execution_count": 16,
          "metadata": {},
          "output_type": "execute_result"
        }
      ]
    },
    {
      "metadata": {
        "ExecuteTime": {
          "end_time": "2023-08-02T03:47:23.866484Z",
          "start_time": "2023-08-02T03:47:23.842467Z"
        },
        "trusted": false
      },
      "id": "0eb3a66b",
      "cell_type": "code",
      "source": "gsv.best_params_",
      "execution_count": 17,
      "outputs": [
        {
          "data": {
            "text/plain": "{'C': 10, 'gamma': 1, 'kernel': 'rbf'}"
          },
          "execution_count": 17,
          "metadata": {},
          "output_type": "execute_result"
        }
      ]
    },
    {
      "metadata": {
        "ExecuteTime": {
          "end_time": "2023-08-02T03:47:25.776715Z",
          "start_time": "2023-08-02T03:47:25.563845Z"
        },
        "trusted": false
      },
      "id": "0d95f75b",
      "cell_type": "code",
      "source": "clf=SVC(C=10,gamma=1)                         # Radial Bias Method\nclf.fit(x_train,y_train)\ny_pred=clf.predict(x_test)\nacc=accuracy_score(y_test,y_pred)\nprint('Accuracy :',acc)\nconfusion_matrix(y_test,y_pred)",
      "execution_count": 18,
      "outputs": [
        {
          "name": "stdout",
          "output_type": "stream",
          "text": "Accuracy : 0.6794871794871795\n"
        },
        {
          "data": {
            "text/plain": "array([[  0,  50],\n       [  0, 106]], dtype=int64)"
          },
          "execution_count": 18,
          "metadata": {},
          "output_type": "execute_result"
        }
      ]
    },
    {
      "metadata": {
        "ExecuteTime": {
          "end_time": "2023-08-02T03:47:28.293121Z",
          "start_time": "2023-08-02T03:47:28.005740Z"
        },
        "trusted": false
      },
      "id": "1edb7117",
      "cell_type": "code",
      "source": "clf=SVC(kernel='linear',C=10,gamma=1)                         # Linear Method\nclf.fit(x_train,y_train)\ny_pred=clf.predict(x_test)\nacc=accuracy_score(y_test,y_pred)\nprint('Accuracy :',acc)\nconfusion_matrix(y_test,y_pred)",
      "execution_count": 19,
      "outputs": [
        {
          "name": "stdout",
          "output_type": "stream",
          "text": "Accuracy : 0.9935897435897436\n"
        },
        {
          "data": {
            "text/plain": "array([[ 50,   0],\n       [  1, 105]], dtype=int64)"
          },
          "execution_count": 19,
          "metadata": {},
          "output_type": "execute_result"
        }
      ]
    },
    {
      "metadata": {
        "ExecuteTime": {
          "end_time": "2023-08-02T03:47:30.073703Z",
          "start_time": "2023-08-02T03:47:30.000103Z"
        },
        "trusted": false
      },
      "id": "be4c0f66",
      "cell_type": "code",
      "source": "clf=SVC(kernel='poly',C=10,gamma=1)                         # Poly Method\nclf.fit(x_train,y_train)\ny_pred=clf.predict(x_test)\nacc=accuracy_score(y_test,y_pred)\nprint('Accuracy :',acc)\nconfusion_matrix(y_test,y_pred)",
      "execution_count": 20,
      "outputs": [
        {
          "name": "stdout",
          "output_type": "stream",
          "text": "Accuracy : 0.967948717948718\n"
        },
        {
          "data": {
            "text/plain": "array([[ 47,   3],\n       [  2, 104]], dtype=int64)"
          },
          "execution_count": 20,
          "metadata": {},
          "output_type": "execute_result"
        }
      ]
    },
    {
      "metadata": {
        "ExecuteTime": {
          "end_time": "2023-08-02T03:47:32.765707Z",
          "start_time": "2023-08-02T03:47:32.679056Z"
        },
        "trusted": false
      },
      "id": "f222c542",
      "cell_type": "code",
      "source": "clf=SVC(kernel='sigmoid',C=10,gamma=1)                         # Sigmoid Method\nclf.fit(x_train,y_train)\ny_pred=clf.predict(x_test)\nacc=accuracy_score(y_test,y_pred)\nprint('Accuracy :',acc)\nconfusion_matrix(y_test,y_pred)",
      "execution_count": 21,
      "outputs": [
        {
          "name": "stdout",
          "output_type": "stream",
          "text": "Accuracy : 0.6794871794871795\n"
        },
        {
          "data": {
            "text/plain": "array([[  0,  50],\n       [  0, 106]], dtype=int64)"
          },
          "execution_count": 21,
          "metadata": {},
          "output_type": "execute_result"
        }
      ]
    },
    {
      "metadata": {},
      "id": "56e4fe88",
      "cell_type": "markdown",
      "source": "# Question 2 :- Salary Data"
    },
    {
      "metadata": {
        "ExecuteTime": {
          "end_time": "2023-08-02T05:12:24.240511Z",
          "start_time": "2023-08-02T05:12:24.053031Z"
        },
        "trusted": false
      },
      "id": "70ebe34f",
      "cell_type": "code",
      "source": "salary_train=pd.read_csv('SalaryData_Train(1).csv')\nsalary_test=pd.read_csv('SalaryData_Test(1).csv')",
      "execution_count": 2,
      "outputs": []
    },
    {
      "metadata": {
        "ExecuteTime": {
          "end_time": "2023-08-02T05:12:25.438460Z",
          "start_time": "2023-08-02T05:12:25.368696Z"
        },
        "trusted": false
      },
      "id": "295eba2a",
      "cell_type": "code",
      "source": "salary_train",
      "execution_count": 3,
      "outputs": [
        {
          "data": {
            "text/html": "<div>\n<style scoped>\n    .dataframe tbody tr th:only-of-type {\n        vertical-align: middle;\n    }\n\n    .dataframe tbody tr th {\n        vertical-align: top;\n    }\n\n    .dataframe thead th {\n        text-align: right;\n    }\n</style>\n<table border=\"1\" class=\"dataframe\">\n  <thead>\n    <tr style=\"text-align: right;\">\n      <th></th>\n      <th>age</th>\n      <th>workclass</th>\n      <th>education</th>\n      <th>educationno</th>\n      <th>maritalstatus</th>\n      <th>occupation</th>\n      <th>relationship</th>\n      <th>race</th>\n      <th>sex</th>\n      <th>capitalgain</th>\n      <th>capitalloss</th>\n      <th>hoursperweek</th>\n      <th>native</th>\n      <th>Salary</th>\n    </tr>\n  </thead>\n  <tbody>\n    <tr>\n      <th>0</th>\n      <td>39</td>\n      <td>State-gov</td>\n      <td>Bachelors</td>\n      <td>13</td>\n      <td>Never-married</td>\n      <td>Adm-clerical</td>\n      <td>Not-in-family</td>\n      <td>White</td>\n      <td>Male</td>\n      <td>2174</td>\n      <td>0</td>\n      <td>40</td>\n      <td>United-States</td>\n      <td>&lt;=50K</td>\n    </tr>\n    <tr>\n      <th>1</th>\n      <td>50</td>\n      <td>Self-emp-not-inc</td>\n      <td>Bachelors</td>\n      <td>13</td>\n      <td>Married-civ-spouse</td>\n      <td>Exec-managerial</td>\n      <td>Husband</td>\n      <td>White</td>\n      <td>Male</td>\n      <td>0</td>\n      <td>0</td>\n      <td>13</td>\n      <td>United-States</td>\n      <td>&lt;=50K</td>\n    </tr>\n    <tr>\n      <th>2</th>\n      <td>38</td>\n      <td>Private</td>\n      <td>HS-grad</td>\n      <td>9</td>\n      <td>Divorced</td>\n      <td>Handlers-cleaners</td>\n      <td>Not-in-family</td>\n      <td>White</td>\n      <td>Male</td>\n      <td>0</td>\n      <td>0</td>\n      <td>40</td>\n      <td>United-States</td>\n      <td>&lt;=50K</td>\n    </tr>\n    <tr>\n      <th>3</th>\n      <td>53</td>\n      <td>Private</td>\n      <td>11th</td>\n      <td>7</td>\n      <td>Married-civ-spouse</td>\n      <td>Handlers-cleaners</td>\n      <td>Husband</td>\n      <td>Black</td>\n      <td>Male</td>\n      <td>0</td>\n      <td>0</td>\n      <td>40</td>\n      <td>United-States</td>\n      <td>&lt;=50K</td>\n    </tr>\n    <tr>\n      <th>4</th>\n      <td>28</td>\n      <td>Private</td>\n      <td>Bachelors</td>\n      <td>13</td>\n      <td>Married-civ-spouse</td>\n      <td>Prof-specialty</td>\n      <td>Wife</td>\n      <td>Black</td>\n      <td>Female</td>\n      <td>0</td>\n      <td>0</td>\n      <td>40</td>\n      <td>Cuba</td>\n      <td>&lt;=50K</td>\n    </tr>\n    <tr>\n      <th>...</th>\n      <td>...</td>\n      <td>...</td>\n      <td>...</td>\n      <td>...</td>\n      <td>...</td>\n      <td>...</td>\n      <td>...</td>\n      <td>...</td>\n      <td>...</td>\n      <td>...</td>\n      <td>...</td>\n      <td>...</td>\n      <td>...</td>\n      <td>...</td>\n    </tr>\n    <tr>\n      <th>30156</th>\n      <td>27</td>\n      <td>Private</td>\n      <td>Assoc-acdm</td>\n      <td>12</td>\n      <td>Married-civ-spouse</td>\n      <td>Tech-support</td>\n      <td>Wife</td>\n      <td>White</td>\n      <td>Female</td>\n      <td>0</td>\n      <td>0</td>\n      <td>38</td>\n      <td>United-States</td>\n      <td>&lt;=50K</td>\n    </tr>\n    <tr>\n      <th>30157</th>\n      <td>40</td>\n      <td>Private</td>\n      <td>HS-grad</td>\n      <td>9</td>\n      <td>Married-civ-spouse</td>\n      <td>Machine-op-inspct</td>\n      <td>Husband</td>\n      <td>White</td>\n      <td>Male</td>\n      <td>0</td>\n      <td>0</td>\n      <td>40</td>\n      <td>United-States</td>\n      <td>&gt;50K</td>\n    </tr>\n    <tr>\n      <th>30158</th>\n      <td>58</td>\n      <td>Private</td>\n      <td>HS-grad</td>\n      <td>9</td>\n      <td>Widowed</td>\n      <td>Adm-clerical</td>\n      <td>Unmarried</td>\n      <td>White</td>\n      <td>Female</td>\n      <td>0</td>\n      <td>0</td>\n      <td>40</td>\n      <td>United-States</td>\n      <td>&lt;=50K</td>\n    </tr>\n    <tr>\n      <th>30159</th>\n      <td>22</td>\n      <td>Private</td>\n      <td>HS-grad</td>\n      <td>9</td>\n      <td>Never-married</td>\n      <td>Adm-clerical</td>\n      <td>Own-child</td>\n      <td>White</td>\n      <td>Male</td>\n      <td>0</td>\n      <td>0</td>\n      <td>20</td>\n      <td>United-States</td>\n      <td>&lt;=50K</td>\n    </tr>\n    <tr>\n      <th>30160</th>\n      <td>52</td>\n      <td>Self-emp-inc</td>\n      <td>HS-grad</td>\n      <td>9</td>\n      <td>Married-civ-spouse</td>\n      <td>Exec-managerial</td>\n      <td>Wife</td>\n      <td>White</td>\n      <td>Female</td>\n      <td>15024</td>\n      <td>0</td>\n      <td>40</td>\n      <td>United-States</td>\n      <td>&gt;50K</td>\n    </tr>\n  </tbody>\n</table>\n<p>30161 rows × 14 columns</p>\n</div>",
            "text/plain": "       age          workclass    education  educationno        maritalstatus  \\\n0       39          State-gov    Bachelors           13        Never-married   \n1       50   Self-emp-not-inc    Bachelors           13   Married-civ-spouse   \n2       38            Private      HS-grad            9             Divorced   \n3       53            Private         11th            7   Married-civ-spouse   \n4       28            Private    Bachelors           13   Married-civ-spouse   \n...    ...                ...          ...          ...                  ...   \n30156   27            Private   Assoc-acdm           12   Married-civ-spouse   \n30157   40            Private      HS-grad            9   Married-civ-spouse   \n30158   58            Private      HS-grad            9              Widowed   \n30159   22            Private      HS-grad            9        Never-married   \n30160   52       Self-emp-inc      HS-grad            9   Married-civ-spouse   \n\n               occupation    relationship    race      sex  capitalgain  \\\n0            Adm-clerical   Not-in-family   White     Male         2174   \n1         Exec-managerial         Husband   White     Male            0   \n2       Handlers-cleaners   Not-in-family   White     Male            0   \n3       Handlers-cleaners         Husband   Black     Male            0   \n4          Prof-specialty            Wife   Black   Female            0   \n...                   ...             ...     ...      ...          ...   \n30156        Tech-support            Wife   White   Female            0   \n30157   Machine-op-inspct         Husband   White     Male            0   \n30158        Adm-clerical       Unmarried   White   Female            0   \n30159        Adm-clerical       Own-child   White     Male            0   \n30160     Exec-managerial            Wife   White   Female        15024   \n\n       capitalloss  hoursperweek          native  Salary  \n0                0            40   United-States   <=50K  \n1                0            13   United-States   <=50K  \n2                0            40   United-States   <=50K  \n3                0            40   United-States   <=50K  \n4                0            40            Cuba   <=50K  \n...            ...           ...             ...     ...  \n30156            0            38   United-States   <=50K  \n30157            0            40   United-States    >50K  \n30158            0            40   United-States   <=50K  \n30159            0            20   United-States   <=50K  \n30160            0            40   United-States    >50K  \n\n[30161 rows x 14 columns]"
          },
          "execution_count": 3,
          "metadata": {},
          "output_type": "execute_result"
        }
      ]
    },
    {
      "metadata": {
        "ExecuteTime": {
          "end_time": "2023-08-02T03:52:56.057695Z",
          "start_time": "2023-08-02T03:52:55.650851Z"
        },
        "trusted": false
      },
      "id": "9472d8e4",
      "cell_type": "code",
      "source": "plt.plot(salary_train['Salary'],salary_train['age'],'bo')",
      "execution_count": 25,
      "outputs": [
        {
          "data": {
            "text/plain": "[<matplotlib.lines.Line2D at 0x267d0591c70>]"
          },
          "execution_count": 25,
          "metadata": {},
          "output_type": "execute_result"
        },
        {
          "data": {
            "image/png": "[encoded data removed]",
            "text/plain": "<Figure size 432x288 with 1 Axes>"
          },
          "metadata": {
            "needs_background": "light"
          },
          "output_type": "display_data"
        }
      ]
    },
    {
      "metadata": {
        "ExecuteTime": {
          "end_time": "2023-08-02T03:54:47.040628Z",
          "start_time": "2023-08-02T03:54:46.600755Z"
        },
        "trusted": false
      },
      "id": "319743e4",
      "cell_type": "code",
      "source": "plt.plot(salary_train['Salary'],salary_train['occupation'],'bo')",
      "execution_count": 27,
      "outputs": [
        {
          "data": {
            "text/plain": "[<matplotlib.lines.Line2D at 0x267d0622d90>]"
          },
          "execution_count": 27,
          "metadata": {},
          "output_type": "execute_result"
        },
        {
          "data": {
            "image/png": "[encoded data removed]",
            "text/plain": "<Figure size 432x288 with 1 Axes>"
          },
          "metadata": {
            "needs_background": "light"
          },
          "output_type": "display_data"
        }
      ]
    },
    {
      "metadata": {
        "ExecuteTime": {
          "end_time": "2023-08-02T03:55:17.297602Z",
          "start_time": "2023-08-02T03:55:16.852988Z"
        },
        "trusted": false
      },
      "id": "ffa1e996",
      "cell_type": "code",
      "source": "plt.plot(salary_train['Salary'],salary_train['education'],'bo')",
      "execution_count": 28,
      "outputs": [
        {
          "data": {
            "text/plain": "[<matplotlib.lines.Line2D at 0x267d067a970>]"
          },
          "execution_count": 28,
          "metadata": {},
          "output_type": "execute_result"
        },
        {
          "data": {
            "image/png": "[encoded data removed]",
            "text/plain": "<Figure size 432x288 with 1 Axes>"
          },
          "metadata": {
            "needs_background": "light"
          },
          "output_type": "display_data"
        }
      ]
    },
    {
      "metadata": {
        "ExecuteTime": {
          "end_time": "2023-08-02T03:56:08.755605Z",
          "start_time": "2023-08-02T03:56:08.384981Z"
        },
        "trusted": false
      },
      "id": "d9520628",
      "cell_type": "code",
      "source": "plt.plot(salary_train['Salary'],salary_train['maritalstatus'],'bo')",
      "execution_count": 29,
      "outputs": [
        {
          "data": {
            "text/plain": "[<matplotlib.lines.Line2D at 0x267d06d4d90>]"
          },
          "execution_count": 29,
          "metadata": {},
          "output_type": "execute_result"
        },
        {
          "data": {
            "image/png": "[encoded data removed]",
            "text/plain": "<Figure size 432x288 with 1 Axes>"
          },
          "metadata": {
            "needs_background": "light"
          },
          "output_type": "display_data"
        }
      ]
    },
    {
      "metadata": {
        "ExecuteTime": {
          "end_time": "2023-08-02T03:56:52.080669Z",
          "start_time": "2023-08-02T03:56:51.701588Z"
        },
        "trusted": false
      },
      "id": "68ec4a3d",
      "cell_type": "code",
      "source": "plt.plot(salary_train['Salary'],salary_train['workclass'],'bo')",
      "execution_count": 30,
      "outputs": [
        {
          "data": {
            "text/plain": "[<matplotlib.lines.Line2D at 0x267d07263d0>]"
          },
          "execution_count": 30,
          "metadata": {},
          "output_type": "execute_result"
        },
        {
          "data": {
            "image/png": "[encoded data removed]",
            "text/plain": "<Figure size 432x288 with 1 Axes>"
          },
          "metadata": {
            "needs_background": "light"
          },
          "output_type": "display_data"
        }
      ]
    },
    {
      "metadata": {
        "ExecuteTime": {
          "end_time": "2023-08-02T03:53:55.875066Z",
          "start_time": "2023-08-02T03:53:55.537477Z"
        },
        "trusted": false
      },
      "id": "8926d9b6",
      "cell_type": "code",
      "source": "plt.plot(salary_train['Salary'],salary_train['sex'],'bo')",
      "execution_count": 26,
      "outputs": [
        {
          "data": {
            "text/plain": "[<matplotlib.lines.Line2D at 0x267d05f8070>]"
          },
          "execution_count": 26,
          "metadata": {},
          "output_type": "execute_result"
        },
        {
          "data": {
            "image/png": "[encoded data removed]",
            "text/plain": "<Figure size 432x288 with 1 Axes>"
          },
          "metadata": {
            "needs_background": "light"
          },
          "output_type": "display_data"
        }
      ]
    },
    {
      "metadata": {
        "ExecuteTime": {
          "end_time": "2023-08-02T04:54:46.463516Z",
          "start_time": "2023-08-02T04:54:46.409785Z"
        },
        "trusted": false
      },
      "id": "63661f9a",
      "cell_type": "code",
      "source": "salary_test",
      "execution_count": 4,
      "outputs": [
        {
          "data": {
            "text/html": "<div>\n<style scoped>\n    .dataframe tbody tr th:only-of-type {\n        vertical-align: middle;\n    }\n\n    .dataframe tbody tr th {\n        vertical-align: top;\n    }\n\n    .dataframe thead th {\n        text-align: right;\n    }\n</style>\n<table border=\"1\" class=\"dataframe\">\n  <thead>\n    <tr style=\"text-align: right;\">\n      <th></th>\n      <th>age</th>\n      <th>workclass</th>\n      <th>education</th>\n      <th>educationno</th>\n      <th>maritalstatus</th>\n      <th>occupation</th>\n      <th>relationship</th>\n      <th>race</th>\n      <th>sex</th>\n      <th>capitalgain</th>\n      <th>capitalloss</th>\n      <th>hoursperweek</th>\n      <th>native</th>\n      <th>Salary</th>\n    </tr>\n  </thead>\n  <tbody>\n    <tr>\n      <th>0</th>\n      <td>25</td>\n      <td>Private</td>\n      <td>11th</td>\n      <td>7</td>\n      <td>Never-married</td>\n      <td>Machine-op-inspct</td>\n      <td>Own-child</td>\n      <td>Black</td>\n      <td>Male</td>\n      <td>0</td>\n      <td>0</td>\n      <td>40</td>\n      <td>United-States</td>\n      <td>&lt;=50K</td>\n    </tr>\n    <tr>\n      <th>1</th>\n      <td>38</td>\n      <td>Private</td>\n      <td>HS-grad</td>\n      <td>9</td>\n      <td>Married-civ-spouse</td>\n      <td>Farming-fishing</td>\n      <td>Husband</td>\n      <td>White</td>\n      <td>Male</td>\n      <td>0</td>\n      <td>0</td>\n      <td>50</td>\n      <td>United-States</td>\n      <td>&lt;=50K</td>\n    </tr>\n    <tr>\n      <th>2</th>\n      <td>28</td>\n      <td>Local-gov</td>\n      <td>Assoc-acdm</td>\n      <td>12</td>\n      <td>Married-civ-spouse</td>\n      <td>Protective-serv</td>\n      <td>Husband</td>\n      <td>White</td>\n      <td>Male</td>\n      <td>0</td>\n      <td>0</td>\n      <td>40</td>\n      <td>United-States</td>\n      <td>&gt;50K</td>\n    </tr>\n    <tr>\n      <th>3</th>\n      <td>44</td>\n      <td>Private</td>\n      <td>Some-college</td>\n      <td>10</td>\n      <td>Married-civ-spouse</td>\n      <td>Machine-op-inspct</td>\n      <td>Husband</td>\n      <td>Black</td>\n      <td>Male</td>\n      <td>7688</td>\n      <td>0</td>\n      <td>40</td>\n      <td>United-States</td>\n      <td>&gt;50K</td>\n    </tr>\n    <tr>\n      <th>4</th>\n      <td>34</td>\n      <td>Private</td>\n      <td>10th</td>\n      <td>6</td>\n      <td>Never-married</td>\n      <td>Other-service</td>\n      <td>Not-in-family</td>\n      <td>White</td>\n      <td>Male</td>\n      <td>0</td>\n      <td>0</td>\n      <td>30</td>\n      <td>United-States</td>\n      <td>&lt;=50K</td>\n    </tr>\n    <tr>\n      <th>...</th>\n      <td>...</td>\n      <td>...</td>\n      <td>...</td>\n      <td>...</td>\n      <td>...</td>\n      <td>...</td>\n      <td>...</td>\n      <td>...</td>\n      <td>...</td>\n      <td>...</td>\n      <td>...</td>\n      <td>...</td>\n      <td>...</td>\n      <td>...</td>\n    </tr>\n    <tr>\n      <th>15055</th>\n      <td>33</td>\n      <td>Private</td>\n      <td>Bachelors</td>\n      <td>13</td>\n      <td>Never-married</td>\n      <td>Prof-specialty</td>\n      <td>Own-child</td>\n      <td>White</td>\n      <td>Male</td>\n      <td>0</td>\n      <td>0</td>\n      <td>40</td>\n      <td>United-States</td>\n      <td>&lt;=50K</td>\n    </tr>\n    <tr>\n      <th>15056</th>\n      <td>39</td>\n      <td>Private</td>\n      <td>Bachelors</td>\n      <td>13</td>\n      <td>Divorced</td>\n      <td>Prof-specialty</td>\n      <td>Not-in-family</td>\n      <td>White</td>\n      <td>Female</td>\n      <td>0</td>\n      <td>0</td>\n      <td>36</td>\n      <td>United-States</td>\n      <td>&lt;=50K</td>\n    </tr>\n    <tr>\n      <th>15057</th>\n      <td>38</td>\n      <td>Private</td>\n      <td>Bachelors</td>\n      <td>13</td>\n      <td>Married-civ-spouse</td>\n      <td>Prof-specialty</td>\n      <td>Husband</td>\n      <td>White</td>\n      <td>Male</td>\n      <td>0</td>\n      <td>0</td>\n      <td>50</td>\n      <td>United-States</td>\n      <td>&lt;=50K</td>\n    </tr>\n    <tr>\n      <th>15058</th>\n      <td>44</td>\n      <td>Private</td>\n      <td>Bachelors</td>\n      <td>13</td>\n      <td>Divorced</td>\n      <td>Adm-clerical</td>\n      <td>Own-child</td>\n      <td>Asian-Pac-Islander</td>\n      <td>Male</td>\n      <td>5455</td>\n      <td>0</td>\n      <td>40</td>\n      <td>United-States</td>\n      <td>&lt;=50K</td>\n    </tr>\n    <tr>\n      <th>15059</th>\n      <td>35</td>\n      <td>Self-emp-inc</td>\n      <td>Bachelors</td>\n      <td>13</td>\n      <td>Married-civ-spouse</td>\n      <td>Exec-managerial</td>\n      <td>Husband</td>\n      <td>White</td>\n      <td>Male</td>\n      <td>0</td>\n      <td>0</td>\n      <td>60</td>\n      <td>United-States</td>\n      <td>&gt;50K</td>\n    </tr>\n  </tbody>\n</table>\n<p>15060 rows × 14 columns</p>\n</div>",
            "text/plain": "       age      workclass      education  educationno        maritalstatus  \\\n0       25        Private           11th            7        Never-married   \n1       38        Private        HS-grad            9   Married-civ-spouse   \n2       28      Local-gov     Assoc-acdm           12   Married-civ-spouse   \n3       44        Private   Some-college           10   Married-civ-spouse   \n4       34        Private           10th            6        Never-married   \n...    ...            ...            ...          ...                  ...   \n15055   33        Private      Bachelors           13        Never-married   \n15056   39        Private      Bachelors           13             Divorced   \n15057   38        Private      Bachelors           13   Married-civ-spouse   \n15058   44        Private      Bachelors           13             Divorced   \n15059   35   Self-emp-inc      Bachelors           13   Married-civ-spouse   \n\n               occupation    relationship                 race      sex  \\\n0       Machine-op-inspct       Own-child                Black     Male   \n1         Farming-fishing         Husband                White     Male   \n2         Protective-serv         Husband                White     Male   \n3       Machine-op-inspct         Husband                Black     Male   \n4           Other-service   Not-in-family                White     Male   \n...                   ...             ...                  ...      ...   \n15055      Prof-specialty       Own-child                White     Male   \n15056      Prof-specialty   Not-in-family                White   Female   \n15057      Prof-specialty         Husband                White     Male   \n15058        Adm-clerical       Own-child   Asian-Pac-Islander     Male   \n15059     Exec-managerial         Husband                White     Male   \n\n       capitalgain  capitalloss  hoursperweek          native  Salary  \n0                0            0            40   United-States   <=50K  \n1                0            0            50   United-States   <=50K  \n2                0            0            40   United-States    >50K  \n3             7688            0            40   United-States    >50K  \n4                0            0            30   United-States   <=50K  \n...            ...          ...           ...             ...     ...  \n15055            0            0            40   United-States   <=50K  \n15056            0            0            36   United-States   <=50K  \n15057            0            0            50   United-States   <=50K  \n15058         5455            0            40   United-States   <=50K  \n15059            0            0            60   United-States    >50K  \n\n[15060 rows x 14 columns]"
          },
          "execution_count": 4,
          "metadata": {},
          "output_type": "execute_result"
        }
      ]
    },
    {
      "metadata": {
        "ExecuteTime": {
          "end_time": "2023-08-02T03:57:54.727813Z",
          "start_time": "2023-08-02T03:57:54.405603Z"
        },
        "trusted": false
      },
      "id": "baab533d",
      "cell_type": "code",
      "source": "plt.plot(salary_test['Salary'],salary_test['age'],'bo')",
      "execution_count": 32,
      "outputs": [
        {
          "data": {
            "text/plain": "[<matplotlib.lines.Line2D at 0x267d0773f10>]"
          },
          "execution_count": 32,
          "metadata": {},
          "output_type": "execute_result"
        },
        {
          "data": {
            "image/png": "[encoded data removed]",
            "text/plain": "<Figure size 432x288 with 1 Axes>"
          },
          "metadata": {
            "needs_background": "light"
          },
          "output_type": "display_data"
        }
      ]
    },
    {
      "metadata": {
        "ExecuteTime": {
          "end_time": "2023-08-02T03:59:08.559084Z",
          "start_time": "2023-08-02T03:59:08.172390Z"
        },
        "trusted": false
      },
      "id": "2122a1b0",
      "cell_type": "code",
      "source": "plt.plot(salary_test['Salary'],salary_test['occupation'],'bo')",
      "execution_count": 34,
      "outputs": [
        {
          "data": {
            "text/plain": "[<matplotlib.lines.Line2D at 0x267d07fc5e0>]"
          },
          "execution_count": 34,
          "metadata": {},
          "output_type": "execute_result"
        },
        {
          "data": {
            "image/png": "[encoded data removed]",
            "text/plain": "<Figure size 432x288 with 1 Axes>"
          },
          "metadata": {
            "needs_background": "light"
          },
          "output_type": "display_data"
        }
      ]
    },
    {
      "metadata": {
        "ExecuteTime": {
          "end_time": "2023-08-02T03:59:12.325135Z",
          "start_time": "2023-08-02T03:59:11.954773Z"
        },
        "trusted": false
      },
      "id": "7955b415",
      "cell_type": "code",
      "source": "plt.plot(salary_test['Salary'],salary_test['education'],'bo')",
      "execution_count": 35,
      "outputs": [
        {
          "data": {
            "text/plain": "[<matplotlib.lines.Line2D at 0x267d0831940>]"
          },
          "execution_count": 35,
          "metadata": {},
          "output_type": "execute_result"
        },
        {
          "data": {
            "image/png": "[encoded data removed]",
            "text/plain": "<Figure size 432x288 with 1 Axes>"
          },
          "metadata": {
            "needs_background": "light"
          },
          "output_type": "display_data"
        }
      ]
    },
    {
      "metadata": {
        "ExecuteTime": {
          "end_time": "2023-08-02T03:59:58.868782Z",
          "start_time": "2023-08-02T03:59:58.544109Z"
        },
        "trusted": false
      },
      "id": "88a0de49",
      "cell_type": "code",
      "source": "plt.plot(salary_test['Salary'],salary_test['maritalstatus'],'bo')",
      "execution_count": 36,
      "outputs": [
        {
          "data": {
            "text/plain": "[<matplotlib.lines.Line2D at 0x267d08ebbe0>]"
          },
          "execution_count": 36,
          "metadata": {},
          "output_type": "execute_result"
        },
        {
          "data": {
            "image/png": "[encoded data removed]",
            "text/plain": "<Figure size 432x288 with 1 Axes>"
          },
          "metadata": {
            "needs_background": "light"
          },
          "output_type": "display_data"
        }
      ]
    },
    {
      "metadata": {
        "ExecuteTime": {
          "end_time": "2023-08-02T04:00:54.885028Z",
          "start_time": "2023-08-02T04:00:54.565728Z"
        },
        "trusted": false
      },
      "id": "498471db",
      "cell_type": "code",
      "source": "plt.plot(salary_test['Salary'],salary_test['capitalgain'],'bo')",
      "execution_count": 37,
      "outputs": [
        {
          "data": {
            "text/plain": "[<matplotlib.lines.Line2D at 0x267d090fbb0>]"
          },
          "execution_count": 37,
          "metadata": {},
          "output_type": "execute_result"
        },
        {
          "data": {
            "image/png": "[encoded data removed]",
            "text/plain": "<Figure size 432x288 with 1 Axes>"
          },
          "metadata": {
            "needs_background": "light"
          },
          "output_type": "display_data"
        }
      ]
    },
    {
      "metadata": {
        "ExecuteTime": {
          "end_time": "2023-08-02T04:01:21.178326Z",
          "start_time": "2023-08-02T04:01:20.864767Z"
        },
        "trusted": false
      },
      "id": "796e86ca",
      "cell_type": "code",
      "source": "plt.plot(salary_test['Salary'],salary_test['capitalloss'],'bo')",
      "execution_count": 38,
      "outputs": [
        {
          "data": {
            "text/plain": "[<matplotlib.lines.Line2D at 0x267d099d2b0>]"
          },
          "execution_count": 38,
          "metadata": {},
          "output_type": "execute_result"
        },
        {
          "data": {
            "image/png": "[encoded data removed]",
            "text/plain": "<Figure size 432x288 with 1 Axes>"
          },
          "metadata": {
            "needs_background": "light"
          },
          "output_type": "display_data"
        }
      ]
    },
    {
      "metadata": {
        "ExecuteTime": {
          "end_time": "2023-08-02T05:12:35.293092Z",
          "start_time": "2023-08-02T05:12:35.127527Z"
        },
        "trusted": false
      },
      "id": "742576a2",
      "cell_type": "code",
      "source": "from sklearn.preprocessing import LabelEncoder\nlabel_encoder=LabelEncoder()\nsalary_train['workclass']=label_encoder.fit_transform(salary_train['workclass'])\nsalary_train['education']=label_encoder.fit_transform(salary_train['education'])\nsalary_train['maritalstatus']=label_encoder.fit_transform(salary_train['maritalstatus'])\nsalary_train['occupation']=label_encoder.fit_transform(salary_train['occupation'])\nsalary_train['relationship']=label_encoder.fit_transform(salary_train['relationship'])\nsalary_train['race']=label_encoder.fit_transform(salary_train['race'])\nsalary_train['sex']=label_encoder.fit_transform(salary_train['sex'])\nsalary_train['native']=label_encoder.fit_transform(salary_train['native'])\nsalary_train",
      "execution_count": 4,
      "outputs": [
        {
          "data": {
            "text/html": "<div>\n<style scoped>\n    .dataframe tbody tr th:only-of-type {\n        vertical-align: middle;\n    }\n\n    .dataframe tbody tr th {\n        vertical-align: top;\n    }\n\n    .dataframe thead th {\n        text-align: right;\n    }\n</style>\n<table border=\"1\" class=\"dataframe\">\n  <thead>\n    <tr style=\"text-align: right;\">\n      <th></th>\n      <th>age</th>\n      <th>workclass</th>\n      <th>education</th>\n      <th>educationno</th>\n      <th>maritalstatus</th>\n      <th>occupation</th>\n      <th>relationship</th>\n      <th>race</th>\n      <th>sex</th>\n      <th>capitalgain</th>\n      <th>capitalloss</th>\n      <th>hoursperweek</th>\n      <th>native</th>\n      <th>Salary</th>\n    </tr>\n  </thead>\n  <tbody>\n    <tr>\n      <th>0</th>\n      <td>39</td>\n      <td>5</td>\n      <td>9</td>\n      <td>13</td>\n      <td>4</td>\n      <td>0</td>\n      <td>1</td>\n      <td>4</td>\n      <td>1</td>\n      <td>2174</td>\n      <td>0</td>\n      <td>40</td>\n      <td>37</td>\n      <td>&lt;=50K</td>\n    </tr>\n    <tr>\n      <th>1</th>\n      <td>50</td>\n      <td>4</td>\n      <td>9</td>\n      <td>13</td>\n      <td>2</td>\n      <td>3</td>\n      <td>0</td>\n      <td>4</td>\n      <td>1</td>\n      <td>0</td>\n      <td>0</td>\n      <td>13</td>\n      <td>37</td>\n      <td>&lt;=50K</td>\n    </tr>\n    <tr>\n      <th>2</th>\n      <td>38</td>\n      <td>2</td>\n      <td>11</td>\n      <td>9</td>\n      <td>0</td>\n      <td>5</td>\n      <td>1</td>\n      <td>4</td>\n      <td>1</td>\n      <td>0</td>\n      <td>0</td>\n      <td>40</td>\n      <td>37</td>\n      <td>&lt;=50K</td>\n    </tr>\n    <tr>\n      <th>3</th>\n      <td>53</td>\n      <td>2</td>\n      <td>1</td>\n      <td>7</td>\n      <td>2</td>\n      <td>5</td>\n      <td>0</td>\n      <td>2</td>\n      <td>1</td>\n      <td>0</td>\n      <td>0</td>\n      <td>40</td>\n      <td>37</td>\n      <td>&lt;=50K</td>\n    </tr>\n    <tr>\n      <th>4</th>\n      <td>28</td>\n      <td>2</td>\n      <td>9</td>\n      <td>13</td>\n      <td>2</td>\n      <td>9</td>\n      <td>5</td>\n      <td>2</td>\n      <td>0</td>\n      <td>0</td>\n      <td>0</td>\n      <td>40</td>\n      <td>4</td>\n      <td>&lt;=50K</td>\n    </tr>\n    <tr>\n      <th>...</th>\n      <td>...</td>\n      <td>...</td>\n      <td>...</td>\n      <td>...</td>\n      <td>...</td>\n      <td>...</td>\n      <td>...</td>\n      <td>...</td>\n      <td>...</td>\n      <td>...</td>\n      <td>...</td>\n      <td>...</td>\n      <td>...</td>\n      <td>...</td>\n    </tr>\n    <tr>\n      <th>30156</th>\n      <td>27</td>\n      <td>2</td>\n      <td>7</td>\n      <td>12</td>\n      <td>2</td>\n      <td>12</td>\n      <td>5</td>\n      <td>4</td>\n      <td>0</td>\n      <td>0</td>\n      <td>0</td>\n      <td>38</td>\n      <td>37</td>\n      <td>&lt;=50K</td>\n    </tr>\n    <tr>\n      <th>30157</th>\n      <td>40</td>\n      <td>2</td>\n      <td>11</td>\n      <td>9</td>\n      <td>2</td>\n      <td>6</td>\n      <td>0</td>\n      <td>4</td>\n      <td>1</td>\n      <td>0</td>\n      <td>0</td>\n      <td>40</td>\n      <td>37</td>\n      <td>&gt;50K</td>\n    </tr>\n    <tr>\n      <th>30158</th>\n      <td>58</td>\n      <td>2</td>\n      <td>11</td>\n      <td>9</td>\n      <td>6</td>\n      <td>0</td>\n      <td>4</td>\n      <td>4</td>\n      <td>0</td>\n      <td>0</td>\n      <td>0</td>\n      <td>40</td>\n      <td>37</td>\n      <td>&lt;=50K</td>\n    </tr>\n    <tr>\n      <th>30159</th>\n      <td>22</td>\n      <td>2</td>\n      <td>11</td>\n      <td>9</td>\n      <td>4</td>\n      <td>0</td>\n      <td>3</td>\n      <td>4</td>\n      <td>1</td>\n      <td>0</td>\n      <td>0</td>\n      <td>20</td>\n      <td>37</td>\n      <td>&lt;=50K</td>\n    </tr>\n    <tr>\n      <th>30160</th>\n      <td>52</td>\n      <td>3</td>\n      <td>11</td>\n      <td>9</td>\n      <td>2</td>\n      <td>3</td>\n      <td>5</td>\n      <td>4</td>\n      <td>0</td>\n      <td>15024</td>\n      <td>0</td>\n      <td>40</td>\n      <td>37</td>\n      <td>&gt;50K</td>\n    </tr>\n  </tbody>\n</table>\n<p>30161 rows × 14 columns</p>\n</div>",
            "text/plain": "       age  workclass  education  educationno  maritalstatus  occupation  \\\n0       39          5          9           13              4           0   \n1       50          4          9           13              2           3   \n2       38          2         11            9              0           5   \n3       53          2          1            7              2           5   \n4       28          2          9           13              2           9   \n...    ...        ...        ...          ...            ...         ...   \n30156   27          2          7           12              2          12   \n30157   40          2         11            9              2           6   \n30158   58          2         11            9              6           0   \n30159   22          2         11            9              4           0   \n30160   52          3         11            9              2           3   \n\n       relationship  race  sex  capitalgain  capitalloss  hoursperweek  \\\n0                 1     4    1         2174            0            40   \n1                 0     4    1            0            0            13   \n2                 1     4    1            0            0            40   \n3                 0     2    1            0            0            40   \n4                 5     2    0            0            0            40   \n...             ...   ...  ...          ...          ...           ...   \n30156             5     4    0            0            0            38   \n30157             0     4    1            0            0            40   \n30158             4     4    0            0            0            40   \n30159             3     4    1            0            0            20   \n30160             5     4    0        15024            0            40   \n\n       native  Salary  \n0          37   <=50K  \n1          37   <=50K  \n2          37   <=50K  \n3          37   <=50K  \n4           4   <=50K  \n...       ...     ...  \n30156      37   <=50K  \n30157      37    >50K  \n30158      37   <=50K  \n30159      37   <=50K  \n30160      37    >50K  \n\n[30161 rows x 14 columns]"
          },
          "execution_count": 4,
          "metadata": {},
          "output_type": "execute_result"
        }
      ]
    },
    {
      "metadata": {
        "ExecuteTime": {
          "end_time": "2023-08-02T05:12:37.377556Z",
          "start_time": "2023-08-02T05:12:37.274157Z"
        },
        "trusted": false
      },
      "id": "b6005016",
      "cell_type": "code",
      "source": "salary_test['workclass']=label_encoder.fit_transform(salary_test['workclass'])\nsalary_test['education']=label_encoder.fit_transform(salary_test['education'])\nsalary_test['maritalstatus']=label_encoder.fit_transform(salary_test['maritalstatus'])\nsalary_test['occupation']=label_encoder.fit_transform(salary_test['occupation'])\nsalary_test['relationship']=label_encoder.fit_transform(salary_test['relationship'])\nsalary_test['race']=label_encoder.fit_transform(salary_test['race'])\nsalary_test['sex']=label_encoder.fit_transform(salary_test['sex'])\nsalary_test['native']=label_encoder.fit_transform(salary_test['native'])\nsalary_test",
      "execution_count": 5,
      "outputs": [
        {
          "data": {
            "text/html": "<div>\n<style scoped>\n    .dataframe tbody tr th:only-of-type {\n        vertical-align: middle;\n    }\n\n    .dataframe tbody tr th {\n        vertical-align: top;\n    }\n\n    .dataframe thead th {\n        text-align: right;\n    }\n</style>\n<table border=\"1\" class=\"dataframe\">\n  <thead>\n    <tr style=\"text-align: right;\">\n      <th></th>\n      <th>age</th>\n      <th>workclass</th>\n      <th>education</th>\n      <th>educationno</th>\n      <th>maritalstatus</th>\n      <th>occupation</th>\n      <th>relationship</th>\n      <th>race</th>\n      <th>sex</th>\n      <th>capitalgain</th>\n      <th>capitalloss</th>\n      <th>hoursperweek</th>\n      <th>native</th>\n      <th>Salary</th>\n    </tr>\n  </thead>\n  <tbody>\n    <tr>\n      <th>0</th>\n      <td>25</td>\n      <td>2</td>\n      <td>1</td>\n      <td>7</td>\n      <td>4</td>\n      <td>6</td>\n      <td>3</td>\n      <td>2</td>\n      <td>1</td>\n      <td>0</td>\n      <td>0</td>\n      <td>40</td>\n      <td>37</td>\n      <td>&lt;=50K</td>\n    </tr>\n    <tr>\n      <th>1</th>\n      <td>38</td>\n      <td>2</td>\n      <td>11</td>\n      <td>9</td>\n      <td>2</td>\n      <td>4</td>\n      <td>0</td>\n      <td>4</td>\n      <td>1</td>\n      <td>0</td>\n      <td>0</td>\n      <td>50</td>\n      <td>37</td>\n      <td>&lt;=50K</td>\n    </tr>\n    <tr>\n      <th>2</th>\n      <td>28</td>\n      <td>1</td>\n      <td>7</td>\n      <td>12</td>\n      <td>2</td>\n      <td>10</td>\n      <td>0</td>\n      <td>4</td>\n      <td>1</td>\n      <td>0</td>\n      <td>0</td>\n      <td>40</td>\n      <td>37</td>\n      <td>&gt;50K</td>\n    </tr>\n    <tr>\n      <th>3</th>\n      <td>44</td>\n      <td>2</td>\n      <td>15</td>\n      <td>10</td>\n      <td>2</td>\n      <td>6</td>\n      <td>0</td>\n      <td>2</td>\n      <td>1</td>\n      <td>7688</td>\n      <td>0</td>\n      <td>40</td>\n      <td>37</td>\n      <td>&gt;50K</td>\n    </tr>\n    <tr>\n      <th>4</th>\n      <td>34</td>\n      <td>2</td>\n      <td>0</td>\n      <td>6</td>\n      <td>4</td>\n      <td>7</td>\n      <td>1</td>\n      <td>4</td>\n      <td>1</td>\n      <td>0</td>\n      <td>0</td>\n      <td>30</td>\n      <td>37</td>\n      <td>&lt;=50K</td>\n    </tr>\n    <tr>\n      <th>...</th>\n      <td>...</td>\n      <td>...</td>\n      <td>...</td>\n      <td>...</td>\n      <td>...</td>\n      <td>...</td>\n      <td>...</td>\n      <td>...</td>\n      <td>...</td>\n      <td>...</td>\n      <td>...</td>\n      <td>...</td>\n      <td>...</td>\n      <td>...</td>\n    </tr>\n    <tr>\n      <th>15055</th>\n      <td>33</td>\n      <td>2</td>\n      <td>9</td>\n      <td>13</td>\n      <td>4</td>\n      <td>9</td>\n      <td>3</td>\n      <td>4</td>\n      <td>1</td>\n      <td>0</td>\n      <td>0</td>\n      <td>40</td>\n      <td>37</td>\n      <td>&lt;=50K</td>\n    </tr>\n    <tr>\n      <th>15056</th>\n      <td>39</td>\n      <td>2</td>\n      <td>9</td>\n      <td>13</td>\n      <td>0</td>\n      <td>9</td>\n      <td>1</td>\n      <td>4</td>\n      <td>0</td>\n      <td>0</td>\n      <td>0</td>\n      <td>36</td>\n      <td>37</td>\n      <td>&lt;=50K</td>\n    </tr>\n    <tr>\n      <th>15057</th>\n      <td>38</td>\n      <td>2</td>\n      <td>9</td>\n      <td>13</td>\n      <td>2</td>\n      <td>9</td>\n      <td>0</td>\n      <td>4</td>\n      <td>1</td>\n      <td>0</td>\n      <td>0</td>\n      <td>50</td>\n      <td>37</td>\n      <td>&lt;=50K</td>\n    </tr>\n    <tr>\n      <th>15058</th>\n      <td>44</td>\n      <td>2</td>\n      <td>9</td>\n      <td>13</td>\n      <td>0</td>\n      <td>0</td>\n      <td>3</td>\n      <td>1</td>\n      <td>1</td>\n      <td>5455</td>\n      <td>0</td>\n      <td>40</td>\n      <td>37</td>\n      <td>&lt;=50K</td>\n    </tr>\n    <tr>\n      <th>15059</th>\n      <td>35</td>\n      <td>3</td>\n      <td>9</td>\n      <td>13</td>\n      <td>2</td>\n      <td>3</td>\n      <td>0</td>\n      <td>4</td>\n      <td>1</td>\n      <td>0</td>\n      <td>0</td>\n      <td>60</td>\n      <td>37</td>\n      <td>&gt;50K</td>\n    </tr>\n  </tbody>\n</table>\n<p>15060 rows × 14 columns</p>\n</div>",
            "text/plain": "       age  workclass  education  educationno  maritalstatus  occupation  \\\n0       25          2          1            7              4           6   \n1       38          2         11            9              2           4   \n2       28          1          7           12              2          10   \n3       44          2         15           10              2           6   \n4       34          2          0            6              4           7   \n...    ...        ...        ...          ...            ...         ...   \n15055   33          2          9           13              4           9   \n15056   39          2          9           13              0           9   \n15057   38          2          9           13              2           9   \n15058   44          2          9           13              0           0   \n15059   35          3          9           13              2           3   \n\n       relationship  race  sex  capitalgain  capitalloss  hoursperweek  \\\n0                 3     2    1            0            0            40   \n1                 0     4    1            0            0            50   \n2                 0     4    1            0            0            40   \n3                 0     2    1         7688            0            40   \n4                 1     4    1            0            0            30   \n...             ...   ...  ...          ...          ...           ...   \n15055             3     4    1            0            0            40   \n15056             1     4    0            0            0            36   \n15057             0     4    1            0            0            50   \n15058             3     1    1         5455            0            40   \n15059             0     4    1            0            0            60   \n\n       native  Salary  \n0          37   <=50K  \n1          37   <=50K  \n2          37    >50K  \n3          37    >50K  \n4          37   <=50K  \n...       ...     ...  \n15055      37   <=50K  \n15056      37   <=50K  \n15057      37   <=50K  \n15058      37   <=50K  \n15059      37    >50K  \n\n[15060 rows x 14 columns]"
          },
          "execution_count": 5,
          "metadata": {},
          "output_type": "execute_result"
        }
      ]
    },
    {
      "metadata": {
        "ExecuteTime": {
          "end_time": "2023-08-02T05:12:39.751895Z",
          "start_time": "2023-08-02T05:12:39.727497Z"
        },
        "trusted": false
      },
      "id": "d811af93",
      "cell_type": "code",
      "source": "x_train_2=salary_train.iloc[:,0:13]\ny_train_2=salary_train.iloc[:,13]\nx_test_2=salary_test.iloc[:,0:13]\ny_test_2=salary_test.iloc[:,13]",
      "execution_count": 6,
      "outputs": []
    },
    {
      "metadata": {
        "ExecuteTime": {
          "end_time": "2023-08-02T05:12:40.892591Z",
          "start_time": "2023-08-02T05:12:40.863087Z"
        },
        "trusted": false
      },
      "id": "b116cdc1",
      "cell_type": "code",
      "source": "def norm_func(i):\n    x = (i-i.min())/(i.max()-i.min())\n    return (x)",
      "execution_count": 7,
      "outputs": []
    },
    {
      "metadata": {
        "ExecuteTime": {
          "end_time": "2023-08-02T05:12:41.874911Z",
          "start_time": "2023-08-02T05:12:41.822748Z"
        },
        "trusted": false
      },
      "id": "a05fd11f",
      "cell_type": "code",
      "source": "x_train_2 = norm_func(x_train_2)\nx_test_2 =  norm_func(x_test_2)",
      "execution_count": 8,
      "outputs": []
    },
    {
      "metadata": {
        "ExecuteTime": {
          "end_time": "2023-08-02T04:23:15.211728Z",
          "start_time": "2023-08-02T04:22:18.966833Z"
        },
        "trusted": false
      },
      "id": "1bad43db",
      "cell_type": "code",
      "source": "model_linear = SVC(kernel = 'linear',gamma=50,C=10)   # Linear\nmodel_linear.fit(x_train_2,y_train_2)",
      "execution_count": 8,
      "outputs": [
        {
          "data": {
            "text/plain": "SVC(C=10, gamma=50, kernel='linear')"
          },
          "execution_count": 8,
          "metadata": {},
          "output_type": "execute_result"
        }
      ]
    },
    {
      "metadata": {
        "ExecuteTime": {
          "end_time": "2023-08-02T04:23:33.697799Z",
          "start_time": "2023-08-02T04:23:21.446328Z"
        },
        "trusted": false
      },
      "id": "2724802e",
      "cell_type": "code",
      "source": "y_pred=model_linear.predict(x_test_2)\nacc=accuracy_score(y_test_2,y_pred)\nconfusion_matrix(y_test_2,y_pred)\nprint('Accuracy:',acc)",
      "execution_count": 9,
      "outputs": [
        {
          "name": "stdout",
          "output_type": "stream",
          "text": "Accuracy: 0.8085657370517928\n"
        }
      ]
    },
    {
      "metadata": {
        "ExecuteTime": {
          "end_time": "2023-08-02T04:57:04.744507Z",
          "start_time": "2023-08-02T04:55:06.553206Z"
        },
        "trusted": false
      },
      "id": "1761d00c",
      "cell_type": "code",
      "source": "model_rad= SVC(kernel = \"rbf\",random_state=40,gamma=0.1,C=1.0)      # Radial Bias\nmodel_rad.fit(x_train_2,y_train_2)\ny_pred=model_rad.predict(x_test_2)\nacc=accuracy_score(y_test_2,y_pred)\nconfusion_matrix(y_test_2,y_pred)\nprint('Accuracy:',acc)",
      "execution_count": 10,
      "outputs": [
        {
          "name": "stdout",
          "output_type": "stream",
          "text": "Accuracy: 0.8280876494023904\n"
        }
      ]
    },
    {
      "metadata": {
        "ExecuteTime": {
          "start_time": "2023-08-02T05:12:46.399Z"
        },
        "trusted": false
      },
      "id": "86a256d6",
      "cell_type": "code",
      "source": "model_poly= SVC(kernel = \"poly\",random_state=40,gamma=50,C=10)     #Polynomial\nmodel_poly.fit(x_train_2,y_train_2)\ny_pred=model_poly.predict(x_test_2)\nacc=accuracy_score(y_test_2,y_pred)\nconfusion_matrix(y_test_2,y_pred)\nprint('Accuracy:',acc)",
      "execution_count": null,
      "outputs": []
    },
    {
      "metadata": {
        "ExecuteTime": {
          "end_time": "2023-06-22T19:37:38.699460Z",
          "start_time": "2023-06-22T19:36:30.738588Z"
        },
        "trusted": false
      },
      "id": "87ac8686",
      "cell_type": "code",
      "source": "model_sigmoid= SVC(kernel = \"sigmoid\",random_state=40,gamma=50,C=10)    # Sigmoid\nmodel_sigmoid.fit(x_train_2,y_train_2)\ny_pred=model_sigmoid.predict(x_test_2)\nacc=accuracy_score(y_test_2,y_pred)\nconfusion_matrix(y_test_2,y_pred)\nprint('Accuracy:',acc)",
      "execution_count": 35,
      "outputs": [
        {
          "name": "stdout",
          "output_type": "stream",
          "text": "Accuracy: 0.7543160690571049\n"
        }
      ]
    },
    {
      "metadata": {
        "ExecuteTime": {
          "end_time": "2023-06-22T19:28:10.930285Z",
          "start_time": "2023-06-22T19:27:50.391027Z"
        },
        "trusted": false
      },
      "id": "2b97967b",
      "cell_type": "code",
      "source": "clf=SVC()\nparams_grid=[{'kernel':['rbf'],'gamma':[50,25,10,5,1],'C':[10,9,8,7,6,5,4,3,2,1]}]\ngsv=GridSearchCV(clf,params_grid,cv=10)\ngsv.fit(x_train,y_train)\ngsv.best_params_",
      "execution_count": 30,
      "outputs": [
        {
          "data": {
            "text/plain": "{'C': 10, 'gamma': 50, 'kernel': 'rbf'}"
          },
          "execution_count": 30,
          "metadata": {},
          "output_type": "execute_result"
        }
      ]
    }
  ],
  "metadata": {
    "gist": {
      "id": "",
      "data": {
        "description": "Assignment 17 Support Vector Machine.ipynb",
        "public": true
      }
    },
    "kernelspec": {
      "name": "python3",
      "display_name": "Python 3 (ipykernel)",
      "language": "python"
    },
    "language_info": {
      "codemirror_mode": {
        "name": "ipython",
        "version": 3
      },
      "file_extension": ".py",
      "mimetype": "text/x-python",
      "name": "python",
      "nbconvert_exporter": "python",
      "pygments_lexer": "ipython3",
      "version": "3.9.12"
    }
  },
  "nbformat": 4,
  "nbformat_minor": 5
}